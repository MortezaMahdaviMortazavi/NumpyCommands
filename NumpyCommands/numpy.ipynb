{
 "cells": [
  {
   "cell_type": "code",
   "execution_count": 1,
   "id": "da828643",
   "metadata": {},
   "outputs": [],
   "source": [
    "import numpy as np"
   ]
  },
  {
   "cell_type": "code",
   "execution_count": 8,
   "id": "1b342b3a",
   "metadata": {},
   "outputs": [
    {
     "data": {
      "text/plain": [
       "array([[1, 2, 3],\n",
       "       [4, 5, 6],\n",
       "       [7, 8, 9]])"
      ]
     },
     "execution_count": 8,
     "metadata": {},
     "output_type": "execute_result"
    }
   ],
   "source": [
    "arr = np.array([[1,2,3],[4,5,6],[7,8,9]])\n",
    "arr"
   ]
  },
  {
   "cell_type": "code",
   "execution_count": 9,
   "id": "0b9fdbac",
   "metadata": {},
   "outputs": [
    {
     "data": {
      "text/plain": [
       "(3, 3)"
      ]
     },
     "execution_count": 9,
     "metadata": {},
     "output_type": "execute_result"
    }
   ],
   "source": [
    "#get number of row and column\n",
    "arr.shape"
   ]
  },
  {
   "cell_type": "code",
   "execution_count": 10,
   "id": "4b16919a",
   "metadata": {},
   "outputs": [
    {
     "data": {
      "text/plain": [
       "9"
      ]
     },
     "execution_count": 10,
     "metadata": {},
     "output_type": "execute_result"
    }
   ],
   "source": [
    "#get the whole number of elements\n",
    "arr.size"
   ]
  },
  {
   "cell_type": "code",
   "execution_count": 14,
   "id": "918a73b4",
   "metadata": {},
   "outputs": [
    {
     "data": {
      "text/plain": [
       "array([[1., 2., 3.],\n",
       "       [4., 5., 6.],\n",
       "       [7., 8., 9.]])"
      ]
     },
     "execution_count": 14,
     "metadata": {},
     "output_type": "execute_result"
    }
   ],
   "source": [
    "#specify type of data\n",
    "np.array(arr,dtype=np.int64)\n",
    "np.array(arr,dtype=np.float64)"
   ]
  },
  {
   "cell_type": "code",
   "execution_count": 19,
   "id": "3aa89217",
   "metadata": {},
   "outputs": [],
   "source": [
    "#save numpy array or data in file\n",
    "x = np.array(arr)\n",
    "np.save('my_arr',x)\n",
    "#for load file\n",
    "y = np.load('my_arr.npy',x)"
   ]
  },
  {
   "cell_type": "code",
   "execution_count": 24,
   "id": "a02a30e0",
   "metadata": {},
   "outputs": [
    {
     "data": {
      "text/plain": [
       "array([[0., 0., 0., 0., 0.],\n",
       "       [0., 0., 0., 0., 0.],\n",
       "       [0., 0., 0., 0., 0.],\n",
       "       [0., 0., 0., 0., 0.]])"
      ]
     },
     "execution_count": 24,
     "metadata": {},
     "output_type": "execute_result"
    }
   ],
   "source": [
    "#build array with zero\n",
    "x = np.zeros((4,5))\n",
    "x"
   ]
  },
  {
   "cell_type": "code",
   "execution_count": 26,
   "id": "e4a8959b",
   "metadata": {},
   "outputs": [
    {
     "data": {
      "text/plain": [
       "array([[1., 1., 1., 1., 1.],\n",
       "       [1., 1., 1., 1., 1.],\n",
       "       [1., 1., 1., 1., 1.],\n",
       "       [1., 1., 1., 1., 1.]])"
      ]
     },
     "execution_count": 26,
     "metadata": {},
     "output_type": "execute_result"
    }
   ],
   "source": [
    "#build array with one\n",
    "x = np.ones((4,5))\n",
    "x"
   ]
  },
  {
   "cell_type": "code",
   "execution_count": 29,
   "id": "6d7fe212",
   "metadata": {},
   "outputs": [
    {
     "data": {
      "text/plain": [
       "array([[5, 5, 5, 5],\n",
       "       [5, 5, 5, 5],\n",
       "       [5, 5, 5, 5]])"
      ]
     },
     "execution_count": 29,
     "metadata": {},
     "output_type": "execute_result"
    }
   ],
   "source": [
    "#build array with arbitrary number\n",
    "x = np.full((3,4),5) #custom_number\n",
    "x"
   ]
  },
  {
   "cell_type": "code",
   "execution_count": 32,
   "id": "97569475",
   "metadata": {},
   "outputs": [
    {
     "data": {
      "text/plain": [
       "array([[1., 0., 0., 0., 0.],\n",
       "       [0., 1., 0., 0., 0.],\n",
       "       [0., 0., 1., 0., 0.],\n",
       "       [0., 0., 0., 1., 0.],\n",
       "       [0., 0., 0., 0., 1.]])"
      ]
     },
     "execution_count": 32,
     "metadata": {},
     "output_type": "execute_result"
    }
   ],
   "source": [
    "#make square matrix\n",
    "x = np.eye(5)\n",
    "x"
   ]
  },
  {
   "cell_type": "code",
   "execution_count": 33,
   "id": "e0f229f7",
   "metadata": {},
   "outputs": [
    {
     "data": {
      "text/plain": [
       "array([[1, 0, 0, 0, 0],\n",
       "       [0, 2, 0, 0, 0],\n",
       "       [0, 0, 3, 0, 0],\n",
       "       [0, 0, 0, 4, 0],\n",
       "       [0, 0, 0, 0, 5]])"
      ]
     },
     "execution_count": 33,
     "metadata": {},
     "output_type": "execute_result"
    }
   ],
   "source": [
    "#make diag matrix \n",
    "x = np.diag([1,2,3,4,5])#putting elements of diag in brakets\n",
    "x"
   ]
  },
  {
   "cell_type": "code",
   "execution_count": 34,
   "id": "e58bfc63",
   "metadata": {},
   "outputs": [
    {
     "data": {
      "text/plain": [
       "array([10, 12, 14, 16, 18])"
      ]
     },
     "execution_count": 34,
     "metadata": {},
     "output_type": "execute_result"
    }
   ],
   "source": [
    "#build an array of a sequence ==> np.arange(start,stop,step)\n",
    "x = np.arange(10,20,2)\n",
    "x"
   ]
  },
  {
   "cell_type": "code",
   "execution_count": 38,
   "id": "44ebb75b",
   "metadata": {},
   "outputs": [
    {
     "data": {
      "text/plain": [
       "array([10., 14., 18., 22., 26., 30., 34., 38., 42., 46., 50.])"
      ]
     },
     "execution_count": 38,
     "metadata": {},
     "output_type": "execute_result"
    }
   ],
   "source": [
    "#build an a regular exact sequence ==>np.linspace(start,stop,n==defult 50)\n",
    "x = np.linspace(10,50,11)\n",
    "x"
   ]
  },
  {
   "cell_type": "code",
   "execution_count": 40,
   "id": "c89341ba",
   "metadata": {
    "scrolled": true
   },
   "outputs": [
    {
     "name": "stdout",
     "output_type": "stream",
     "text": [
      "[ 0.    6.25 12.5  18.75 25.  ]\n"
     ]
    },
    {
     "data": {
      "text/plain": [
       "array([ 0.,  5., 10., 15., 20.])"
      ]
     },
     "execution_count": 40,
     "metadata": {},
     "output_type": "execute_result"
    }
   ],
   "source": [
    "#linspace and specify endpoint\n",
    "x = np.linspace(0,25,5)\n",
    "print(x)\n",
    "x = np.linspace(0,25,5,endpoint=False)\n",
    "x"
   ]
  },
  {
   "cell_type": "code",
   "execution_count": 49,
   "id": "8f932683",
   "metadata": {},
   "outputs": [
    {
     "data": {
      "text/plain": [
       "array([[ 0.,  5.],\n",
       "       [10., 15.],\n",
       "       [20., 25.],\n",
       "       [30., 35.],\n",
       "       [40., 45.]])"
      ]
     },
     "execution_count": 49,
     "metadata": {},
     "output_type": "execute_result"
    }
   ],
   "source": [
    "#build matrix with arbitrary dimension\n",
    "x = np.linspace(0,50,10,endpoint=False).reshape(5,2)\n",
    "x"
   ]
  },
  {
   "cell_type": "code",
   "execution_count": 52,
   "id": "b2c44a78",
   "metadata": {},
   "outputs": [
    {
     "data": {
      "text/plain": [
       "array([[0.3157776 , 0.61893158],\n",
       "       [0.00163664, 0.97082021],\n",
       "       [0.93830262, 0.95416167],\n",
       "       [0.15957741, 0.82677615],\n",
       "       [0.71423842, 0.18412432]])"
      ]
     },
     "execution_count": 52,
     "metadata": {},
     "output_type": "execute_result"
    }
   ],
   "source": [
    "#generate random number in differ dimension of matrix ==> np.random.random((row,col))\n",
    "x = np.random.random((5,2))\n",
    "x"
   ]
  },
  {
   "cell_type": "code",
   "execution_count": 56,
   "id": "674ad041",
   "metadata": {},
   "outputs": [
    {
     "data": {
      "text/plain": [
       "array([[10,  5,  9],\n",
       "       [13,  6, 14],\n",
       "       [12,  9,  4],\n",
       "       [11, 10,  5],\n",
       "       [12, 13,  5]])"
      ]
     },
     "execution_count": 56,
     "metadata": {},
     "output_type": "execute_result"
    }
   ],
   "source": [
    "#generate random int number between two custom==>np.random.randint(start,stop,(row,col))\n",
    "x = np.random.randint(4,15,(5,3))\n",
    "x"
   ]
  },
  {
   "cell_type": "code",
   "execution_count": 59,
   "id": "26c1bfc6",
   "metadata": {},
   "outputs": [
    {
     "data": {
      "text/plain": [
       "array([[ 2.52348514, 12.65111411,  5.89884749, ...,  1.11518778,\n",
       "         2.86587718,  4.90523125],\n",
       "       [11.95909055,  8.67513021,  7.98948404, ...,  0.28041331,\n",
       "        -5.4775552 , -7.14068082],\n",
       "       [-3.88514282,  4.76574394,  1.28010821, ..., 13.48607334,\n",
       "         0.66805494, -2.06863989],\n",
       "       ...,\n",
       "       [ 4.95135984, -8.70474023, -3.91646166, ...,  4.68045764,\n",
       "         4.56385692,  3.51188558],\n",
       "       [-5.62727703,  6.34812701,  2.23220475, ..., -7.84875465,\n",
       "        -1.45777447,  6.76774501],\n",
       "       [-4.90696962, -1.66388021,  2.16877027, ..., 11.50229034,\n",
       "         6.53473894,  4.91449423]])"
      ]
     },
     "execution_count": 59,
     "metadata": {},
     "output_type": "execute_result"
    }
   ],
   "source": [
    "#generate very big or anything matrix for statistical properties and use it(like randint):\n",
    "#==>np.random.normal(start,stop,size=(row,col))\n",
    "x = np.random.normal(1,5,size=(1000,1000))\n",
    "x"
   ]
  },
  {
   "cell_type": "code",
   "execution_count": 68,
   "id": "d86363e0",
   "metadata": {},
   "outputs": [
    {
     "data": {
      "text/plain": [
       "array([[1, 2],\n",
       "       [4, 5],\n",
       "       [7, 8]])"
      ]
     },
     "execution_count": 68,
     "metadata": {},
     "output_type": "execute_result"
    }
   ],
   "source": [
    "x = np.array([[1,2,3],[4,5,6],[7,8,9]])\n",
    "#delete element from array ==> np.delete(x,index,axis)\n",
    "x = np.delete(x,2,axis=1)\n",
    "x"
   ]
  },
  {
   "cell_type": "code",
   "execution_count": 75,
   "id": "de3b9207",
   "metadata": {},
   "outputs": [
    {
     "name": "stdout",
     "output_type": "stream",
     "text": [
      "[[1 2]\n",
      " [4 5]\n",
      " [7 8]]\n"
     ]
    },
    {
     "data": {
      "text/plain": [
       "array([[1, 6, 2],\n",
       "       [4, 6, 5],\n",
       "       [7, 6, 8]])"
      ]
     },
     "execution_count": 75,
     "metadata": {},
     "output_type": "execute_result"
    }
   ],
   "source": [
    "#insert value in array ==> np.insert(arr,StartIndex,values,axis) *axis can be None\n",
    "print(x)\n",
    "np.insert(x,1,6,1)"
   ]
  },
  {
   "cell_type": "code",
   "execution_count": 91,
   "id": "a0e3436a",
   "metadata": {},
   "outputs": [
    {
     "data": {
      "text/plain": [
       "array([[1, 2],\n",
       "       [3, 4],\n",
       "       [5, 6]])"
      ]
     },
     "execution_count": 91,
     "metadata": {},
     "output_type": "execute_result"
    }
   ],
   "source": [
    "#vstack array on each other ==> np.vstack((arr1,arr2))\n",
    "x = np.array([[1,2]])\n",
    "y = np.array([[3,4],[5,6]])\n",
    "z = np.vstack((x,y))\n",
    "z"
   ]
  },
  {
   "cell_type": "code",
   "execution_count": 102,
   "id": "99049e70",
   "metadata": {},
   "outputs": [
    {
     "data": {
      "text/plain": [
       "array([[3, 4, 1],\n",
       "       [5, 6, 2]])"
      ]
     },
     "execution_count": 102,
     "metadata": {},
     "output_type": "execute_result"
    }
   ],
   "source": [
    "#hstack array(switch number of row and col) ==> np.hstack(arr1,arr2.reshape(arr1Size,arr2Size))\n",
    "z = np.hstack((y,x.reshape(2,1)))\n",
    "z"
   ]
  },
  {
   "cell_type": "code",
   "execution_count": 118,
   "id": "15a2f627",
   "metadata": {},
   "outputs": [],
   "source": [
    "#slice from array in three ways(Notice start and end are the indexes that we specify)\n",
    "#way one ==> arr[start:end]\n",
    "#way two ==> arr[start:] ==>until last\n",
    "#way three ==> arr[:end] ==>start from zero until end\n",
    "x = np.array([[1,2,3],[4,5,6],[7,8,9],[10,11,12]])\n",
    "z = x[1:3]"
   ]
  },
  {
   "cell_type": "code",
   "execution_count": 121,
   "id": "c88b3e62",
   "metadata": {},
   "outputs": [
    {
     "data": {
      "text/plain": [
       "array([[4, 5],\n",
       "       [7, 8]])"
      ]
     },
     "execution_count": 121,
     "metadata": {},
     "output_type": "execute_result"
    }
   ],
   "source": [
    "#slice from each row and col ==>arr[n1:n2,n3:n4] ==>n1:n2 is slice of row and n3:n4 is slice of col\n",
    "s = x[1:3,0:2]\n",
    "s"
   ]
  },
  {
   "cell_type": "code",
   "execution_count": 116,
   "id": "37bf3d47",
   "metadata": {},
   "outputs": [
    {
     "data": {
      "text/plain": [
       "array([[ 1,  3,  5,  7,  9],\n",
       "       [11, 13, 15, 17, 19]])"
      ]
     },
     "execution_count": 116,
     "metadata": {},
     "output_type": "execute_result"
    }
   ],
   "source": [
    "#build a sequence array and put in a matrix ==> np.arange(start,end,step).reshape(rowSize,colSize)\n",
    "#Notice that should (start*end)/step == rowSize*colSize\n",
    "#if dont put step,its default 1\n",
    "x = np.arange(1,21,2).reshape(2,5)\n",
    "x"
   ]
  },
  {
   "cell_type": "code",
   "execution_count": 122,
   "id": "0cbbf2a8",
   "metadata": {},
   "outputs": [
    {
     "data": {
      "text/plain": [
       "array([[ 6],\n",
       "       [ 9],\n",
       "       [12]])"
      ]
     },
     "execution_count": 122,
     "metadata": {},
     "output_type": "execute_result"
    }
   ],
   "source": [
    "#Important point:if we build an array x and an array y = x[start,end], y is a slice of x and refer to a part of x memory\n",
    "# so if we change an element of y,corrospanding element in x, changes.for solve this problem,we use copy:\n",
    "z = np.copy(x[1:,2:])\n",
    "z"
   ]
  },
  {
   "cell_type": "code",
   "execution_count": 135,
   "id": "c7448966",
   "metadata": {},
   "outputs": [
    {
     "data": {
      "text/plain": [
       "array([1, 2, 3, 4, 5])"
      ]
     },
     "execution_count": 135,
     "metadata": {},
     "output_type": "execute_result"
    }
   ],
   "source": [
    "#specify a part of array with condition\n",
    "x = np.array([[1,2,3],[4,5,6],[7,8,9],[10,11,12]])\n",
    "x[x<6]"
   ]
  },
  {
   "cell_type": "code",
   "execution_count": 154,
   "id": "cbcf09c9",
   "metadata": {},
   "outputs": [
    {
     "data": {
      "text/plain": [
       "array([[ 1,  2,  3,  4,  5],\n",
       "       [ 1,  3,  4,  7,  8],\n",
       "       [ 1,  3,  4,  7, 10]])"
      ]
     },
     "execution_count": 154,
     "metadata": {},
     "output_type": "execute_result"
    }
   ],
   "source": [
    "#using sort in different way ==>np.sort(arr,axis)\n",
    "#axis is default None\n",
    "x = np.array([[4,5,2,3,1],[7,1,8,4,3],[10,4,7,1,3]])\n",
    "np.sort(x,1)"
   ]
  },
  {
   "cell_type": "code",
   "execution_count": 163,
   "id": "58d3fd24",
   "metadata": {},
   "outputs": [
    {
     "data": {
      "text/plain": [
       "array([5, 7, 9])"
      ]
     },
     "execution_count": 163,
     "metadata": {},
     "output_type": "execute_result"
    }
   ],
   "source": [
    "#add corrospond elements of arr1 and arr2\n",
    "x = np.array([1,2,3])\n",
    "y = np.array([4,5,6])\n",
    "np.add(x,y)"
   ]
  },
  {
   "cell_type": "code",
   "execution_count": 164,
   "id": "56174e50",
   "metadata": {},
   "outputs": [
    {
     "data": {
      "text/plain": [
       "array([0.25, 0.4 , 0.5 ])"
      ]
     },
     "execution_count": 164,
     "metadata": {},
     "output_type": "execute_result"
    }
   ],
   "source": [
    "#divide corrospond elements of arr1 and arr2\n",
    "np.divide(x,y)"
   ]
  },
  {
   "cell_type": "code",
   "execution_count": 165,
   "id": "a9f561cd",
   "metadata": {},
   "outputs": [
    {
     "data": {
      "text/plain": [
       "array([-6, -1, -8])"
      ]
     },
     "execution_count": 165,
     "metadata": {},
     "output_type": "execute_result"
    }
   ],
   "source": [
    "#subtract corrospond elements of arr1 and arr2\n",
    "x = np.array([1,2,3])\n",
    "y = np.array([7,3,11])\n",
    "np.subtract(x,y)"
   ]
  },
  {
   "cell_type": "code",
   "execution_count": 168,
   "id": "b66407e4",
   "metadata": {},
   "outputs": [
    {
     "data": {
      "text/plain": [
       "array([ 4, 10, 18])"
      ]
     },
     "execution_count": 168,
     "metadata": {},
     "output_type": "execute_result"
    }
   ],
   "source": [
    "#multiply corrospond elements of arr1 and arr2\n",
    "x = np.array([1,2,3])\n",
    "y = np.array([4,5,6])\n",
    "np.multiply(x,y)"
   ]
  },
  {
   "cell_type": "code",
   "execution_count": 172,
   "id": "b89edcbb",
   "metadata": {},
   "outputs": [
    {
     "name": "stdout",
     "output_type": "stream",
     "text": [
      "[ 4 10 18]\n",
      "[5 7 9]\n",
      "[0.25 0.4  0.5 ]\n",
      "[-3 -3 -3]\n"
     ]
    }
   ],
   "source": [
    "#we can also write math operations like below:\n",
    "x = np.array([1,2,3])\n",
    "y = np.array([4,5,6])\n",
    "print(x*y)\n",
    "print(x+y)\n",
    "print(x/y)\n",
    "print(x-y)"
   ]
  },
  {
   "cell_type": "code",
   "execution_count": 173,
   "id": "fb67f9c3",
   "metadata": {},
   "outputs": [
    {
     "data": {
      "text/plain": [
       "3.0"
      ]
     },
     "execution_count": 173,
     "metadata": {},
     "output_type": "execute_result"
    }
   ],
   "source": [
    "#get sqrt from number\n",
    "np.sqrt(9)"
   ]
  },
  {
   "cell_type": "code",
   "execution_count": 177,
   "id": "52488a92",
   "metadata": {},
   "outputs": [
    {
     "data": {
      "text/plain": [
       "array([ 2.71828183,  7.3890561 , 20.08553692])"
      ]
     },
     "execution_count": 177,
     "metadata": {},
     "output_type": "execute_result"
    }
   ],
   "source": [
    "#get exponential of number or array\n",
    "np.exp(2) #print 7.3890561\n",
    "np.exp([1,2,3])"
   ]
  },
  {
   "cell_type": "code",
   "execution_count": 180,
   "id": "54b16909",
   "metadata": {},
   "outputs": [
    {
     "data": {
      "text/plain": [
       "array([1, 4, 9], dtype=int32)"
      ]
     },
     "execution_count": 180,
     "metadata": {},
     "output_type": "execute_result"
    }
   ],
   "source": [
    "#power element of an array or a number ==>np.power(arr,numberOfPow)\n",
    "x = np.array([1,2,3])\n",
    "np.power(x,2)"
   ]
  },
  {
   "cell_type": "code",
   "execution_count": 182,
   "id": "5707a49e",
   "metadata": {},
   "outputs": [
    {
     "data": {
      "text/plain": [
       "7.5"
      ]
     },
     "execution_count": 182,
     "metadata": {},
     "output_type": "execute_result"
    }
   ],
   "source": [
    "#get medium of arr elements\n",
    "x = np.array([1,2,3,4,5,6,7,8,12,13,14,15])\n",
    "np.mean(x)"
   ]
  },
  {
   "cell_type": "code",
   "execution_count": 184,
   "id": "ec6249ac",
   "metadata": {},
   "outputs": [
    {
     "name": "stdout",
     "output_type": "stream",
     "text": [
      "[ 3  4  5  6  7  8  9 10 14 15 16 17]\n",
      "[ 3  6  9 12 15 18 21 24 36 39 42 45]\n",
      "[0.25 0.5  0.75 1.   1.25 1.5  1.75 2.   3.   3.25 3.5  3.75]\n",
      "[-4 -3 -2 -1  0  1  2  3  7  8  9 10]\n"
     ]
    }
   ],
   "source": [
    "#add,divie,moultiple,subtract on all elements of an array\n",
    "x = np.array([1,2,3,4,5,6,7,8,12,13,14,15])\n",
    "print(x+2)\n",
    "print(x*3)\n",
    "print(x/4)\n",
    "print(x-5)"
   ]
  }
 ],
 "metadata": {
  "kernelspec": {
   "display_name": "Python 3",
   "language": "python",
   "name": "python3"
  },
  "language_info": {
   "codemirror_mode": {
    "name": "ipython",
    "version": 3
   },
   "file_extension": ".py",
   "mimetype": "text/x-python",
   "name": "python",
   "nbconvert_exporter": "python",
   "pygments_lexer": "ipython3",
   "version": "3.8.8"
  }
 },
 "nbformat": 4,
 "nbformat_minor": 5
}
